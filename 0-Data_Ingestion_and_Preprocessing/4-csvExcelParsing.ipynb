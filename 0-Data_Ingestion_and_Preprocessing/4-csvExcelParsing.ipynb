{
 "cells": [
  {
   "cell_type": "markdown",
   "id": "d87e0661",
   "metadata": {},
   "source": [
    "## Parsing CSV and Excel files\n",
    " "
   ]
  },
  {
   "cell_type": "code",
   "execution_count": 1,
   "id": "c167f90f",
   "metadata": {},
   "outputs": [],
   "source": [
    "import pandas as pd\n",
    "import os"
   ]
  },
  {
   "cell_type": "code",
   "execution_count": 2,
   "id": "c84749af",
   "metadata": {},
   "outputs": [],
   "source": [
    "os.makedirs(\"data/unstructured_files\", exist_ok=True)"
   ]
  },
  {
   "cell_type": "code",
   "execution_count": 3,
   "id": "27e51136",
   "metadata": {},
   "outputs": [],
   "source": [
    "data = {\n",
    "    'Product': ['Laptop', 'Mouse', 'Keyboard', 'Monitor', 'Webcam'],\n",
    "    'Category': ['Electronics', 'Accessories', 'Accessories', 'Electronics', 'Electronics'],\n",
    "    'Price': [999.99, 29.99, 79.99, 299.99, 89.99],\n",
    "    'Stock': [50, 200, 150, 75, 100],\n",
    "    'Description': [\n",
    "        'High-performance laptop with 16GB RAM and 512GB SSD',\n",
    "        'Wireless optical mouse with ergonomic design',\n",
    "        'Mechanical keyboard with RGB backlighting',\n",
    "        '27-inch 4K monitor with HDR support',\n",
    "        '1080p webcam with noise cancellation'\n",
    "    ]\n",
    "}"
   ]
  },
  {
   "cell_type": "code",
   "execution_count": 4,
   "id": "54eec19d",
   "metadata": {},
   "outputs": [],
   "source": [
    "df = pd.DataFrame(data)\n",
    "df.to_csv('data/unstructured_files/products.csv', index=False)"
   ]
  },
  {
   "cell_type": "code",
   "execution_count": 5,
   "id": "33f1cfe5",
   "metadata": {},
   "outputs": [],
   "source": [
    "with pd.ExcelWriter('data/unstructured_files/products.xlsx') as writer:\n",
    "    df.to_excel(writer, sheet_name='Products', index=False)\n",
    "\n",
    "    summary_data = {\n",
    "        'Category':['Electronics', 'Accessories'],\n",
    "        'Total_Items': [3,2],\n",
    "        'Total_Value': [1389.97, 109.98]\n",
    "    }\n",
    "    pd.DataFrame(summary_data).to_excel(writer, sheet_name='Summary', index = False)"
   ]
  },
  {
   "cell_type": "markdown",
   "id": "c86fd6bd",
   "metadata": {},
   "source": [
    "## CSV Processing"
   ]
  },
  {
   "cell_type": "code",
   "execution_count": 6,
   "id": "1142e392",
   "metadata": {},
   "outputs": [],
   "source": [
    "from langchain_community.document_loaders import CSVLoader, UnstructuredCSVLoader"
   ]
  },
  {
   "cell_type": "code",
   "execution_count": 7,
   "id": "b0af270e",
   "metadata": {},
   "outputs": [
    {
     "name": "stdout",
     "output_type": "stream",
     "text": [
      "CSV Loader-Row Based Documents\n",
      "Loaded 5 documents\n",
      "Document: 1\n",
      "Content: Product: Laptop\n",
      "Category: Electronics\n",
      "Price: 999.99\n",
      "Stock: 50\n",
      "Description: High-performance laptop with 16GB RAM and 512GB SSD\n",
      "Metadata: {'source': 'data/unstructured_files/products.csv', 'row': 0}\n",
      "\n",
      "\n",
      "Document: 2\n",
      "Content: Product: Mouse\n",
      "Category: Accessories\n",
      "Price: 29.99\n",
      "Stock: 200\n",
      "Description: Wireless optical mouse with ergonomic design\n",
      "Metadata: {'source': 'data/unstructured_files/products.csv', 'row': 1}\n",
      "\n",
      "\n",
      "Document: 3\n",
      "Content: Product: Keyboard\n",
      "Category: Accessories\n",
      "Price: 79.99\n",
      "Stock: 150\n",
      "Description: Mechanical keyboard with RGB backlighting\n",
      "Metadata: {'source': 'data/unstructured_files/products.csv', 'row': 2}\n",
      "\n",
      "\n",
      "Document: 4\n",
      "Content: Product: Monitor\n",
      "Category: Electronics\n",
      "Price: 299.99\n",
      "Stock: 75\n",
      "Description: 27-inch 4K monitor with HDR support\n",
      "Metadata: {'source': 'data/unstructured_files/products.csv', 'row': 3}\n",
      "\n",
      "\n",
      "Document: 5\n",
      "Content: Product: Webcam\n",
      "Category: Electronics\n",
      "Price: 89.99\n",
      "Stock: 100\n",
      "Description: 1080p webcam with noise cancellation\n",
      "Metadata: {'source': 'data/unstructured_files/products.csv', 'row': 4}\n",
      "\n",
      "\n"
     ]
    }
   ],
   "source": [
    "# Method 1- row based Documents\n",
    "print(\"CSV Loader-Row Based Documents\")\n",
    "csv_loader = CSVLoader(\n",
    "    file_path='data/unstructured_files/products.csv',\n",
    "    encoding='utf-8',\n",
    "    csv_args={\n",
    "        'delimiter':\",\",\n",
    "        'quotechar':'\"',\n",
    "    }\n",
    ")\n",
    "\n",
    "csv_docs = csv_loader.load()\n",
    "print(F\"Loaded {len(csv_docs)} documents\")\n",
    "for i,doc in enumerate(csv_docs):\n",
    "    print(f\"Document: {i+1}\")\n",
    "    print(f\"Content: {doc.page_content}\")\n",
    "    print(f\"Metadata: {doc.metadata}\")\n",
    "    print(\"\\n\")"
   ]
  },
  {
   "cell_type": "code",
   "execution_count": 8,
   "id": "9b62cfe7",
   "metadata": {},
   "outputs": [],
   "source": [
    "from typing import List\n",
    "from langchain_core.documents import Document\n",
    "#Method 2: Custom CSV processing for better control\n",
    "\n",
    "def intelligent_csv_processor(filepath: str) -> List[Document]:\n",
    "    \"\"\"Process CSV with intelligent document creation\"\"\"\n",
    "    df = pd.read_csv(filepath)\n",
    "    documents = []\n",
    "\n",
    "\n",
    "    # Setrategy 1: one document per row with structured content\n",
    "    for idx, row in df.iterrows():\n",
    "        #Create a structured document\n",
    "        content = f\"\"\"Product Information:\n",
    "        Name:{row['Product']}\n",
    "        Category:{row['Category']}\n",
    "        Price:${row['Price']}\n",
    "        Stock:{row['Stock']} units\n",
    "        Description:{row['Description']}\"\"\"\n",
    "\n",
    "        doc = Document(\n",
    "            page_content=content,\n",
    "            matadata = {\n",
    "                'source': filepath,\n",
    "                'row_index':idx,\n",
    "                'product_name':row['Product'],\n",
    "                'category':row['Category'],\n",
    "                'price':row['Price'],\n",
    "                'data_type':'product_info'\n",
    "            }\n",
    "        )\n",
    "\n",
    "        documents.append(doc)\n",
    "    return documents\n"
   ]
  },
  {
   "cell_type": "code",
   "execution_count": 9,
   "id": "78829e7b",
   "metadata": {},
   "outputs": [],
   "source": [
    "docs = intelligent_csv_processor(\"data/unstructured_files/products.csv\")"
   ]
  },
  {
   "cell_type": "code",
   "execution_count": 10,
   "id": "142e21ac",
   "metadata": {},
   "outputs": [
    {
     "data": {
      "text/plain": [
       "[Document(metadata={}, page_content='Product Information:\\n        Name:Laptop\\n        Category:Electronics\\n        Price:$999.99\\n        Stock:50 units\\n        Description:High-performance laptop with 16GB RAM and 512GB SSD'),\n",
       " Document(metadata={}, page_content='Product Information:\\n        Name:Mouse\\n        Category:Accessories\\n        Price:$29.99\\n        Stock:200 units\\n        Description:Wireless optical mouse with ergonomic design'),\n",
       " Document(metadata={}, page_content='Product Information:\\n        Name:Keyboard\\n        Category:Accessories\\n        Price:$79.99\\n        Stock:150 units\\n        Description:Mechanical keyboard with RGB backlighting'),\n",
       " Document(metadata={}, page_content='Product Information:\\n        Name:Monitor\\n        Category:Electronics\\n        Price:$299.99\\n        Stock:75 units\\n        Description:27-inch 4K monitor with HDR support'),\n",
       " Document(metadata={}, page_content='Product Information:\\n        Name:Webcam\\n        Category:Electronics\\n        Price:$89.99\\n        Stock:100 units\\n        Description:1080p webcam with noise cancellation')]"
      ]
     },
     "execution_count": 10,
     "metadata": {},
     "output_type": "execute_result"
    }
   ],
   "source": [
    "docs"
   ]
  },
  {
   "cell_type": "markdown",
   "id": "5c161174",
   "metadata": {},
   "source": [
    "### Excel Processing"
   ]
  },
  {
   "cell_type": "code",
   "execution_count": 11,
   "id": "020fd6c0",
   "metadata": {},
   "outputs": [],
   "source": [
    "# Strategy 1: using excel for full control\n",
    "\n",
    "def process_excel_with_pandas(filepath: str)-> List[Document]:\n",
    "    \"\"\"Process Excel with sheet awarness\"\"\"\n",
    "    documents = []\n",
    "\n",
    "    # Read all sheets\n",
    "    excel_file = pd.ExcelFile(filepath)\n",
    "    for sheet_name in  excel_file.sheet_names :\n",
    "        df = pd.read_excel(filepath, sheet_name = sheet_name)\n",
    "\n",
    "        #create document for each sheet\n",
    "\n",
    "        sheet_content = f\"sheet: {sheet_name}\"\n",
    "        sheet_content += f\"columns: {','.join(df.columns)}\"\n",
    "        sheet_content += f\"rows: {len(df)} \\n \\n\"\n",
    "        sheet_content += df.to_string(index=False)\n",
    "\n",
    "        document = Document(\n",
    "            page_content = sheet_content,\n",
    "            metadata = {\n",
    "                'source': filepath,\n",
    "                'Sheet_name': sheet_name,\n",
    "                'num_rows':len(df),\n",
    "                'num_columns': len(df.columns),\n",
    "                'data_type':'product_info'\n",
    "            }\n",
    "        )\n",
    "        documents.append(document)\n",
    "    return documents"
   ]
  },
  {
   "cell_type": "code",
   "execution_count": 12,
   "id": "a8e4840d",
   "metadata": {},
   "outputs": [],
   "source": [
    "excel_docs = process_excel_with_pandas('data/unstructured_files/products.xlsx')\n"
   ]
  },
  {
   "cell_type": "code",
   "execution_count": 13,
   "id": "0a1927eb",
   "metadata": {},
   "outputs": [
    {
     "name": "stdout",
     "output_type": "stream",
     "text": [
      "Processed 2 sheets\n"
     ]
    }
   ],
   "source": [
    "print(f\"Processed {len(excel_docs)} sheets\")"
   ]
  },
  {
   "cell_type": "code",
   "execution_count": 14,
   "id": "5552daa3",
   "metadata": {},
   "outputs": [
    {
     "data": {
      "text/plain": [
       "[Document(metadata={'source': 'data/unstructured_files/products.xlsx', 'Sheet_name': 'Products', 'num_rows': 5, 'num_columns': 5, 'data_type': 'product_info'}, page_content='sheet: Productscolumns: Product,Category,Price,Stock,Descriptionrows: 5 \\n \\n Product    Category  Price  Stock                                         Description\\n  Laptop Electronics 999.99     50 High-performance laptop with 16GB RAM and 512GB SSD\\n   Mouse Accessories  29.99    200        Wireless optical mouse with ergonomic design\\nKeyboard Accessories  79.99    150           Mechanical keyboard with RGB backlighting\\n Monitor Electronics 299.99     75                 27-inch 4K monitor with HDR support\\n  Webcam Electronics  89.99    100                1080p webcam with noise cancellation'),\n",
       " Document(metadata={'source': 'data/unstructured_files/products.xlsx', 'Sheet_name': 'Summary', 'num_rows': 2, 'num_columns': 3, 'data_type': 'product_info'}, page_content='sheet: Summarycolumns: Category,Total_Items,Total_Valuerows: 2 \\n \\n   Category  Total_Items  Total_Value\\nElectronics            3      1389.97\\nAccessories            2       109.98')]"
      ]
     },
     "execution_count": 14,
     "metadata": {},
     "output_type": "execute_result"
    }
   ],
   "source": [
    "excel_docs"
   ]
  },
  {
   "cell_type": "code",
   "execution_count": null,
   "id": "1e38af0a",
   "metadata": {},
   "outputs": [],
   "source": []
  }
 ],
 "metadata": {
  "kernelspec": {
   "display_name": "RAG (3.12.4)",
   "language": "python",
   "name": "python3"
  },
  "language_info": {
   "codemirror_mode": {
    "name": "ipython",
    "version": 3
   },
   "file_extension": ".py",
   "mimetype": "text/x-python",
   "name": "python",
   "nbconvert_exporter": "python",
   "pygments_lexer": "ipython3",
   "version": "3.12.4"
  }
 },
 "nbformat": 4,
 "nbformat_minor": 5
}
