{
 "cells": [
  {
   "cell_type": "markdown",
   "id": "6973526d",
   "metadata": {},
   "source": [
    "## Data Parsing from pdf"
   ]
  },
  {
   "cell_type": "code",
   "execution_count": 9,
   "id": "5bd88096",
   "metadata": {},
   "outputs": [],
   "source": [
    "from langchain_community.document_loaders import (\n",
    "    PyPDFLoader,\n",
    "    PyMuPDFLoader,\n",
    "    UnstructuredPDFLoader\n",
    ")"
   ]
  },
  {
   "cell_type": "markdown",
   "id": "3b968936",
   "metadata": {},
   "source": [
    "### PyPDFLoader technique"
   ]
  },
  {
   "cell_type": "code",
   "execution_count": 10,
   "id": "09fd8ae8",
   "metadata": {},
   "outputs": [
    {
     "name": "stdout",
     "output_type": "stream",
     "text": [
      "loaded 11\n",
      "page 1 content: \n",
      " The EUROCALL Review, Volume 25, No. 2, September 2017 \n",
      " \n",
      " 18 \n",
      "Research paper \n",
      " \n",
      "A look at advanced learners’ use of mobile devices for \n",
      "English language study: Insights from interview data \n",
      "Mariusz Kruk \n",
      "University of Zielona Gora, Poland \n",
      "______________________________________________________________ \n",
      "mkruk @ uz.zgora.pl \n",
      "  \n",
      "Abstract \n",
      "The paper discusses the results of a study which explored advanced learners of English \n",
      "engagement with their mobile devices to develop learning experiences that meet their \n",
      "needs and goals as foreign language learners. The data were collected from 20 students \n",
      "by means of a semi -structured interview. The gathered data were subjected to \n",
      "qualitative and quantitative analysis. The results of the study demonstrated that , on the \n",
      "one hand , some subjects manifested heightened awareness relating to the \n",
      "advantageous role of mobile devices in their learning endeavors, their ability to reach \n",
      "for suitable tools and retrieve necessary information so as to achieve their goals, meet \n",
      "their needs and adjust their learning of English to their personal learning styles, and on \n",
      "the other, a rather intuitive and/or ad hoc use of their mobile devices in the classroom. \n",
      "Keywords: Learner autonomy, mobile devices, advanced EFL learners, learning \n",
      "English. \n",
      "  \n",
      "1. Introduction \n",
      "Mobile devices, smartphones and tablet computers in particular, have generated a lot of \n",
      "interest among researchers in recent years (Byrne & Diem, 2014). This is b ecause the \n",
      "opportunities these new technologies may offer (e.g. individualized learning, the variety \n",
      "of mobile apps available, easy access to the internet) and/or the fact tha t they are \n",
      "increasingly more common among learners make them an important and pot entially \n",
      "useful addition to formal and informal language learning. \n",
      "According to Benson (2011), there has always been a connection between educational \n",
      "technologies and learner autonomy to the extent that they have often been intended for \n",
      "independent practice. It should be noted, however, that this link and “future enquiry \n",
      "and practice into technology -mediated learner autonomy will need to be increasingly \n",
      "aligned to the tools, settings, and activities that are of significance to language learners” \n",
      "(Reinders & White, 2016, p. 151). Reinders and White (2016) further argue that  as long \n",
      "as “the potential range of settings, tools, and experiences is now virtually limitless, \n",
      "individuals need to be increasingly adept at critical adaptive learning in order to benefit \n",
      "from and contribute effectively to those settings” (p. 151). Beyond doubt, contemporary \n",
      "language teachers should equip foreign/second language learners with appropriate \n",
      "knowledge concerning the affordances of mobile devices for language study and they \n",
      "should prepare them for effective usage of such devices for this purpos e. It is also of \n",
      "paramount importance, for both researchers and practitioners, to comprehend the link \n",
      "between the modalities of the language learners' organization of their own learning \n",
      "experiences and environments and the role mobile technologies, in part icular \n",
      "smartphones and tablets, play in these contexts. \n",
      "Taking into consideration the above -mentioned issues, the study reported in this article \n",
      "investigated ways advanced English language students use their mobile devices (i.e. \n",
      "smartphones and tablet comp uters) for their language learning. The article commences \n",
      "with a short overview of relevant literature. Next, the design of the study is described,...\n",
      "metadata: \n",
      " {'producer': 'Microsoft® Word 2016', 'creator': 'Microsoft® Word 2016', 'creationdate': '2018-03-05T09:43:57+01:00', 'author': 'agimeno', 'moddate': '2018-03-12T10:24:10-04:00', 'source': 'data/document.pdf', 'total_pages': 11, 'page': 0, 'page_label': '1'}...\n"
     ]
    }
   ],
   "source": [
    "try:\n",
    "    pypdf_loader = PyPDFLoader(\"data/document.pdf\")\n",
    "    pypdf_docs = pypdf_loader.load()\n",
    "    # print(pypdf_docs)\n",
    "    print(f\"loaded {len(pypdf_docs)}\")\n",
    "    print(f\"page 1 content: \\n {pypdf_docs[0].page_content}...\")\n",
    "    print(f\"metadata: \\n {pypdf_docs[0].metadata}...\")\n",
    "\n",
    "except Exception as e:\n",
    "    print(f\"Error: {e}\")"
   ]
  },
  {
   "cell_type": "markdown",
   "id": "43d88179",
   "metadata": {},
   "source": [
    "### PyMuPDFLoader technique"
   ]
  },
  {
   "cell_type": "code",
   "execution_count": 11,
   "id": "a86810e5",
   "metadata": {},
   "outputs": [
    {
     "name": "stdout",
     "output_type": "stream",
     "text": [
      "loaded 11\n",
      "page 1 content: \n",
      " The EUROCALL Review, Volume 25, No. 2, September 2017 \n",
      " \n",
      "18 \n",
      "Research paper \n",
      " \n",
      "A look at advanced learners’ use of mobile devices for \n",
      "English language study: Insights from interview data \n",
      "Mariusz Kruk \n",
      "University of Zielona Gora, Poland \n",
      "______________________________________________________________ \n",
      "mkruk @ uz.zgora.pl \n",
      "  \n",
      "Abstract \n",
      "The paper discusses the results of a study which explored advanced learners of English \n",
      "engagement with their mobile devices to develop learning experiences that meet their \n",
      "needs and goals as foreign language learners. The data were collected from 20 students \n",
      "by means of a semi-structured interview. The gathered data were subjected to \n",
      "qualitative and quantitative analysis. The results of the study demonstrated that, on the \n",
      "one hand, some subjects manifested heightened awareness relating to the \n",
      "advantageous role of mobile devices in their learning endeavors, their ability to reach \n",
      "for suitable tools and retrieve necessary information so as to achieve their goals, meet \n",
      "their needs and adjust their learning of English to their personal learning styles, and on \n",
      "the other, a rather intuitive and/or ad hoc use of their mobile devices in the classroom. \n",
      "Keywords: Learner autonomy, mobile devices, advanced EFL learners, learning \n",
      "English. \n",
      "  \n",
      "1. Introduction \n",
      "Mobile devices, smartphones and tablet computers in particular, have generated a lot of \n",
      "interest among researchers in recent years (Byrne & Diem, 2014). This is because the \n",
      "opportunities these new technologies may offer (e.g. individualized learning, the variety \n",
      "of mobile apps available, easy access to the internet) and/or the fact that they are \n",
      "increasingly more common among learners make them an important and potentially \n",
      "useful addition to formal and informal language learning. \n",
      "According to Benson (2011), there has always been a connection between educational \n",
      "technologies and learner autonomy to the extent that they have often been intended for \n",
      "independent practice. It should be noted, however, that this link and “future enquiry \n",
      "and practice into technology-mediated learner autonomy will need to be increasingly \n",
      "aligned to the tools, settings, and activities that are of significance to language learners” \n",
      "(Reinders & White, 2016, p. 151). Reinders and White (2016) further argue that as long \n",
      "as “the potential range of settings, tools, and experiences is now virtually limitless, \n",
      "individuals need to be increasingly adept at critical adaptive learning in order to benefit \n",
      "from and contribute effectively to those settings” (p. 151). Beyond doubt, contemporary \n",
      "language teachers should equip foreign/second language learners with appropriate \n",
      "knowledge concerning the affordances of mobile devices for language study and they \n",
      "should prepare them for effective usage of such devices for this purpose. It is also of \n",
      "paramount importance, for both researchers and practitioners, to comprehend the link \n",
      "between the modalities of the language learners' organization of their own learning \n",
      "experiences and environments and the role mobile technologies, in particular \n",
      "smartphones and tablets, play in these contexts. \n",
      "Taking into consideration the above-mentioned issues, the study reported in this article \n",
      "investigated ways advanced English language students use their mobile devices (i.e. \n",
      "smartphones and tablet computers) for their language learning. The article commences \n",
      "with a short overview of relevant literature. Next, the design of the study is described,...\n",
      "metadata: \n",
      " {'producer': 'Microsoft® Word 2016', 'creator': 'Microsoft® Word 2016', 'creationdate': '2018-03-05T09:43:57+01:00', 'source': 'data/document.pdf', 'file_path': 'data/document.pdf', 'total_pages': 11, 'format': 'PDF 1.6', 'title': '', 'author': 'agimeno', 'subject': '', 'keywords': '', 'moddate': '2018-03-12T10:24:10-04:00', 'trapped': '', 'modDate': \"D:20180312102410-04'00'\", 'creationDate': \"D:20180305094357+01'00'\", 'page': 0}...\n"
     ]
    }
   ],
   "source": [
    "try:\n",
    "    pyMupdf_loader = PyMuPDFLoader(\"data/document.pdf\")\n",
    "    pyMupdf_docs = pyMupdf_loader.load()\n",
    "    # print(pypdf_docs)\n",
    "    print(f\"loaded {len(pyMupdf_docs)}\")\n",
    "    print(f\"page 1 content: \\n {pyMupdf_docs[0].page_content}...\")\n",
    "    print(f\"metadata: \\n {pyMupdf_docs[0].metadata}...\")\n",
    "\n",
    "except Exception as e:\n",
    "    print(f\"Error: {e}\")"
   ]
  },
  {
   "cell_type": "code",
   "execution_count": 12,
   "id": "52303ae1",
   "metadata": {},
   "outputs": [],
   "source": [
    "from langchain.text_splitter import RecursiveCharacterTextSplitter"
   ]
  },
  {
   "cell_type": "code",
   "execution_count": 13,
   "id": "b0b8c2b4",
   "metadata": {},
   "outputs": [],
   "source": [
    "text = pyMupdf_docs[0].page_content"
   ]
  },
  {
   "cell_type": "code",
   "execution_count": 14,
   "id": "3f6d2997",
   "metadata": {},
   "outputs": [
    {
     "data": {
      "text/plain": [
       "\"The EUROCALL Review, Volume 25, No. 2, September 2017 \\n \\n18 \\nResearch paper \\n \\nA look at advanced learners’ use of mobile devices for \\nEnglish language study: Insights from interview data \\nMariusz Kruk \\nUniversity of Zielona Gora, Poland \\n______________________________________________________________ \\nmkruk @ uz.zgora.pl \\n  \\nAbstract \\nThe paper discusses the results of a study which explored advanced learners of English \\nengagement with their mobile devices to develop learning experiences that meet their \\nneeds and goals as foreign language learners. The data were collected from 20 students \\nby means of a semi-structured interview. The gathered data were subjected to \\nqualitative and quantitative analysis. The results of the study demonstrated that, on the \\none hand, some subjects manifested heightened awareness relating to the \\nadvantageous role of mobile devices in their learning endeavors, their ability to reach \\nfor suitable tools and retrieve necessary information so as to achieve their goals, meet \\ntheir needs and adjust their learning of English to their personal learning styles, and on \\nthe other, a rather intuitive and/or ad hoc use of their mobile devices in the classroom. \\nKeywords: Learner autonomy, mobile devices, advanced EFL learners, learning \\nEnglish. \\n  \\n1. Introduction \\nMobile devices, smartphones and tablet computers in particular, have generated a lot of \\ninterest among researchers in recent years (Byrne & Diem, 2014). This is because the \\nopportunities these new technologies may offer (e.g. individualized learning, the variety \\nof mobile apps available, easy access to the internet) and/or the fact that they are \\nincreasingly more common among learners make them an important and potentially \\nuseful addition to formal and informal language learning. \\nAccording to Benson (2011), there has always been a connection between educational \\ntechnologies and learner autonomy to the extent that they have often been intended for \\nindependent practice. It should be noted, however, that this link and “future enquiry \\nand practice into technology-mediated learner autonomy will need to be increasingly \\naligned to the tools, settings, and activities that are of significance to language learners” \\n(Reinders & White, 2016, p. 151). Reinders and White (2016) further argue that as long \\nas “the potential range of settings, tools, and experiences is now virtually limitless, \\nindividuals need to be increasingly adept at critical adaptive learning in order to benefit \\nfrom and contribute effectively to those settings” (p. 151). Beyond doubt, contemporary \\nlanguage teachers should equip foreign/second language learners with appropriate \\nknowledge concerning the affordances of mobile devices for language study and they \\nshould prepare them for effective usage of such devices for this purpose. It is also of \\nparamount importance, for both researchers and practitioners, to comprehend the link \\nbetween the modalities of the language learners' organization of their own learning \\nexperiences and environments and the role mobile technologies, in particular \\nsmartphones and tablets, play in these contexts. \\nTaking into consideration the above-mentioned issues, the study reported in this article \\ninvestigated ways advanced English language students use their mobile devices (i.e. \\nsmartphones and tablet computers) for their language learning. The article commences \\nwith a short overview of relevant literature. Next, the design of the study is described,\""
      ]
     },
     "execution_count": 14,
     "metadata": {},
     "output_type": "execute_result"
    }
   ],
   "source": [
    "text"
   ]
  },
  {
   "cell_type": "code",
   "execution_count": 15,
   "id": "151ee267",
   "metadata": {},
   "outputs": [],
   "source": [
    "recur_splitter = RecursiveCharacterTextSplitter(\n",
    "    separators=[\"\\n\\n\",\"\\n\",\" \", \"\"],\n",
    "    chunk_size = 200,\n",
    "    chunk_overlap = 20,\n",
    "    length_function = len\n",
    ")\n",
    "\n",
    "recur_chunks = recur_splitter.split_text(text)"
   ]
  },
  {
   "cell_type": "code",
   "execution_count": 23,
   "id": "d1087d19",
   "metadata": {},
   "outputs": [
    {
     "name": "stdout",
     "output_type": "stream",
     "text": [
      "created 21 chunks\n",
      "chunk 1: \n",
      " The EUROCALL Review, Volume 25, No. 2, September 2017 \n",
      " \n",
      "18 \n",
      "Research paper \n",
      " \n",
      "A look at advanced learners’ use of mobile devices for \n",
      "English language study: Insights from interview data \n",
      "\n",
      "chunk 2: \n",
      " Mariusz Kruk \n",
      "University of Zielona Gora, Poland \n",
      "______________________________________________________________ \n",
      "mkruk @ uz.zgora.pl \n",
      "  \n",
      "Abstract \n",
      "\n",
      "chunk 3: \n",
      " Abstract \n",
      "The paper discusses the results of a study which explored advanced learners of English \n",
      "engagement with their mobile devices to develop learning experiences that meet their \n",
      "\n",
      "chunk 4: \n",
      " needs and goals as foreign language learners. The data were collected from 20 students \n",
      "by means of a semi-structured interview. The gathered data were subjected to \n",
      "\n",
      "chunk 5: \n",
      " qualitative and quantitative analysis. The results of the study demonstrated that, on the \n",
      "one hand, some subjects manifested heightened awareness relating to the \n",
      "\n",
      "chunk 6: \n",
      " advantageous role of mobile devices in their learning endeavors, their ability to reach \n",
      "for suitable tools and retrieve necessary information so as to achieve their goals, meet \n",
      "\n",
      "chunk 7: \n",
      " their needs and adjust their learning of English to their personal learning styles, and on \n",
      "the other, a rather intuitive and/or ad hoc use of their mobile devices in the classroom. \n",
      "\n",
      "chunk 8: \n",
      " Keywords: Learner autonomy, mobile devices, advanced EFL learners, learning \n",
      "English. \n",
      "  \n",
      "1. Introduction \n",
      "Mobile devices, smartphones and tablet computers in particular, have generated a lot of \n",
      "\n",
      "chunk 9: \n",
      " interest among researchers in recent years (Byrne & Diem, 2014). This is because the \n",
      "opportunities these new technologies may offer (e.g. individualized learning, the variety \n",
      "\n",
      "chunk 10: \n",
      " of mobile apps available, easy access to the internet) and/or the fact that they are \n",
      "increasingly more common among learners make them an important and potentially \n",
      "\n",
      "chunk 11: \n",
      " useful addition to formal and informal language learning. \n",
      "According to Benson (2011), there has always been a connection between educational \n",
      "\n",
      "chunk 12: \n",
      " technologies and learner autonomy to the extent that they have often been intended for \n",
      "independent practice. It should be noted, however, that this link and “future enquiry \n",
      "\n",
      "chunk 13: \n",
      " and practice into technology-mediated learner autonomy will need to be increasingly \n",
      "aligned to the tools, settings, and activities that are of significance to language learners” \n",
      "\n",
      "chunk 14: \n",
      " (Reinders & White, 2016, p. 151). Reinders and White (2016) further argue that as long \n",
      "as “the potential range of settings, tools, and experiences is now virtually limitless, \n",
      "\n",
      "chunk 15: \n",
      " individuals need to be increasingly adept at critical adaptive learning in order to benefit \n",
      "from and contribute effectively to those settings” (p. 151). Beyond doubt, contemporary \n",
      "\n",
      "chunk 16: \n",
      " language teachers should equip foreign/second language learners with appropriate \n",
      "knowledge concerning the affordances of mobile devices for language study and they \n",
      "\n",
      "chunk 17: \n",
      " should prepare them for effective usage of such devices for this purpose. It is also of \n",
      "paramount importance, for both researchers and practitioners, to comprehend the link \n",
      "\n",
      "chunk 18: \n",
      " between the modalities of the language learners' organization of their own learning \n",
      "experiences and environments and the role mobile technologies, in particular \n",
      "\n",
      "chunk 19: \n",
      " smartphones and tablets, play in these contexts. \n",
      "Taking into consideration the above-mentioned issues, the study reported in this article \n",
      "\n",
      "chunk 20: \n",
      " investigated ways advanced English language students use their mobile devices (i.e. \n",
      "smartphones and tablet computers) for their language learning. The article commences \n",
      "\n",
      "chunk 21: \n",
      " with a short overview of relevant literature. Next, the design of the study is described, \n",
      "\n"
     ]
    }
   ],
   "source": [
    "print(f\"created {len(recur_chunks)} chunks\")\n",
    "for i,chunk in enumerate(recur_chunks):\n",
    "    print(f\"chunk {i+1}: \\n {recur_chunks[i]} \\n\")"
   ]
  },
  {
   "cell_type": "markdown",
   "id": "86ce191d",
   "metadata": {},
   "source": [
    "## Solving common challenges in PDF parsing"
   ]
  },
  {
   "cell_type": "code",
   "execution_count": 17,
   "id": "38d97413",
   "metadata": {},
   "outputs": [],
   "source": [
    "from langchain_core.documents import Document\n",
    "from typing import List"
   ]
  },
  {
   "cell_type": "code",
   "execution_count": 18,
   "id": "089753a3",
   "metadata": {},
   "outputs": [],
   "source": [
    "class smartPDFprocessor:\n",
    "    \"\"\"Advanced pdf processing with error handling\"\"\"\n",
    "    def __init__(self, chunk_size=1000, chunk_overlap = 100):\n",
    "        self.chunk_size = chunk_size\n",
    "        self.chunk_overlap = chunk_overlap\n",
    "        self.textSplitter = RecursiveCharacterTextSplitter(\n",
    "            chunk_size = chunk_size,\n",
    "            chunk_overlap = chunk_overlap,\n",
    "            separators=[\" \"]\n",
    "        )\n",
    "\n",
    "    def __clean_text(self, text:str):\n",
    "        \"\"\"clean extracted text\"\"\"\n",
    "        #Remove excessive whitespace\n",
    "        text = \" \".join(text.split())\n",
    "\n",
    "        #fix common PDF extraction issues\n",
    "        text = text.replace('fi','fi')\n",
    "        text = text.replace('fl','fl')\n",
    "\n",
    "        return text\n",
    "\n",
    "    def processPDF(self, pdf_path:str)->List[Document]:\n",
    "\n",
    "        \"\"\"Process PDF with smart chunking and metadata enhancement\"\"\"\n",
    "\n",
    "        #load pdf\n",
    "        loader = PyPDFLoader(pdf_path)\n",
    "        pages = loader.load()\n",
    "\n",
    "        #process Each page\n",
    "        processed_chunks = []\n",
    "\n",
    "        for page_num, page in enumerate(pages):\n",
    "\n",
    "            ##clean the text\n",
    "            cleaned_text =  self.__clean_text(page.page_content)\n",
    "\n",
    "            #skip the empty pages\n",
    "            if len(cleaned_text.strip()) < 50:\n",
    "                continue\n",
    "            chunks = self.textSplitter.create_documents(\n",
    "                texts = [cleaned_text],\n",
    "                metadatas=[{\n",
    "                    **page.metadata,\n",
    "                    \"page\":page_num+1,\n",
    "                    \"total_pages\":len(pages),\n",
    "                    \"chunk_method\":\"smart_PDF_Processor\",\n",
    "                    \"char_count\":len(cleaned_text)\n",
    "                }]\n",
    "            )\n",
    "\n",
    "            processed_chunks.extend(chunks)\n",
    "\n",
    "        return processed_chunks\n"
   ]
  },
  {
   "cell_type": "code",
   "execution_count": 19,
   "id": "695c705d",
   "metadata": {},
   "outputs": [],
   "source": [
    "preprocessor = smartPDFprocessor()"
   ]
  },
  {
   "cell_type": "code",
   "execution_count": 20,
   "id": "9f2ac3aa",
   "metadata": {},
   "outputs": [
    {
     "name": "stdout",
     "output_type": "stream",
     "text": [
      "processes into 50 smart chunks\n",
      "\n",
      " smaple chunk metadata:\n",
      "producer: Microsoft® Word 2016\n",
      "creator: Microsoft® Word 2016\n",
      "creationdate: 2018-03-05T09:43:57+01:00\n",
      "author: agimeno\n",
      "moddate: 2018-03-12T10:24:10-04:00\n",
      "source: ./data/document.pdf\n",
      "total_pages: 11\n",
      "page: 1\n",
      "page_label: 1\n",
      "chunk_method: smart_PDF_Processor\n",
      "char_count: 3456\n"
     ]
    }
   ],
   "source": [
    "#process a pdf if available\n",
    "\n",
    "try:\n",
    "    smart_chunks = preprocessor.processPDF(\"./data/document.pdf\")\n",
    "    print(f\"processes into {len(smart_chunks)} smart chunks\")\n",
    "\n",
    "    if smart_chunks:\n",
    "        print(\"\\n smaple chunk metadata:\")\n",
    "        for key, value in smart_chunks[0].metadata.items():\n",
    "            print(f\"{key}: {value}\")\n",
    "except Exception as e:\n",
    "    print(f\"processiing Error: {e}\")"
   ]
  },
  {
   "cell_type": "code",
   "execution_count": null,
   "id": "7b516655",
   "metadata": {},
   "outputs": [],
   "source": []
  }
 ],
 "metadata": {
  "kernelspec": {
   "display_name": "RAG (3.12.4)",
   "language": "python",
   "name": "python3"
  },
  "language_info": {
   "codemirror_mode": {
    "name": "ipython",
    "version": 3
   },
   "file_extension": ".py",
   "mimetype": "text/x-python",
   "name": "python",
   "nbconvert_exporter": "python",
   "pygments_lexer": "ipython3",
   "version": "3.12.4"
  }
 },
 "nbformat": 4,
 "nbformat_minor": 5
}
