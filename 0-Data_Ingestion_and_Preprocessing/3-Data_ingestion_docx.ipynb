{
 "cells": [
  {
   "cell_type": "markdown",
   "id": "ecf2f8f7",
   "metadata": {},
   "source": [
    "## Data parsing from word documents"
   ]
  },
  {
   "cell_type": "code",
   "execution_count": 11,
   "id": "06ebe36d",
   "metadata": {},
   "outputs": [],
   "source": [
    "from langchain_community.document_loaders import Docx2txtLoader, UnstructuredWordDocumentLoader"
   ]
  },
  {
   "cell_type": "code",
   "execution_count": 12,
   "id": "9d368a05",
   "metadata": {},
   "outputs": [
    {
     "name": "stdout",
     "output_type": "stream",
     "text": [
      "Using Doc2txtLoader....\n",
      "\n",
      "\n",
      "Loaded 1 documents\n",
      "Contetnt preview: Sample Word Document for RAG\n",
      "\n",
      "This is a sample Word document created to test reading capabilities in Retrieval Augmented Generation (RAG) systems.\n",
      "\n",
      "Section 1: Introduction\n",
      "\n",
      "Retrieval Augmented Generat\n",
      "Metadata: {'source': './data/sample.docx'}\n"
     ]
    }
   ],
   "source": [
    "## Method 1: using the docx2txt loader\n",
    "print(\"Using Doc2txtLoader....\")\n",
    "try:\n",
    "    docx_loader = Docx2txtLoader(\"./data/sample.docx\")\n",
    "    docs = docx_loader.load()\n",
    "    print(\"\\n\")\n",
    "    print(f\"Loaded {len(docs)} documents\")\n",
    "    print(f\"Contetnt preview: {docs[0].page_content[:200]}\")\n",
    "    print(F\"Metadata: {docs[0].metadata}\")\n",
    "except Exception as e:\n",
    "    print(f\"error opening word file: {e}\")"
   ]
  },
  {
   "cell_type": "code",
   "execution_count": 13,
   "id": "549f283a",
   "metadata": {},
   "outputs": [
    {
     "name": "stdout",
     "output_type": "stream",
     "text": [
      "\n",
      " Using UnstructuredDocumentLoader...\n",
      "\n",
      "\n",
      "Loaded 11 documents\n",
      "\n",
      " element: 1\n",
      "type: Title\n",
      "Content: Sample Word Document for RAG\n",
      "\n",
      " element: 2\n",
      "type: NarrativeText\n",
      "Content: This is a sample Word document created to test reading capabilities in Retrieval Augmented Generatio\n",
      "\n",
      " element: 3\n",
      "type: Title\n",
      "Content: Section 1: Introduction\n",
      "\n",
      " element: 4\n",
      "type: NarrativeText\n",
      "Content: Retrieval Augmented Generation (RAG) combines retrieval-based and generative methods to improve AI s\n",
      "\n",
      " element: 5\n",
      "type: Title\n",
      "Content: Section 2: Example Content\n",
      "\n",
      " element: 6\n",
      "type: NarrativeText\n",
      "Content: Here are some example facts:\n",
      "\n",
      " element: 7\n",
      "type: NarrativeText\n",
      "Content: 1. The capital of France is Paris.\n",
      "\n",
      " element: 8\n",
      "type: NarrativeText\n",
      "Content: 2. The Great Wall of China is visible from space is a myth.\n",
      "\n",
      " element: 9\n",
      "type: NarrativeText\n",
      "Content: 3. Machine learning is a subset of artificial intelligence.\n",
      "\n",
      " element: 10\n",
      "type: Title\n",
      "Content: Section 3: Conclusion\n",
      "\n",
      " element: 11\n",
      "type: NarrativeText\n",
      "Content: This document is designed to provide a structured test input for parsing and extracting data in your\n"
     ]
    }
   ],
   "source": [
    "## Method 2: Using unstructured word document loader\n",
    "print(\"\\n Using UnstructuredDocumentLoader...\")\n",
    "\n",
    "try:\n",
    "    unstruct_docx_loader = UnstructuredWordDocumentLoader(\"./data/sample.docx\", mode=\"elements\")\n",
    "    Unstruct_docs = unstruct_docx_loader.load()\n",
    "    print(\"\\n\")\n",
    "    print(f\"Loaded {len(Unstruct_docs)} documents\")\n",
    "    for i,doc in enumerate(Unstruct_docs):\n",
    "        print(f\"\\n element: {i+1}\")\n",
    "        print(f\"type: {doc.metadata.get('category', 'unknown')}\")\n",
    "        print(f'Content: {doc.page_content[:100]}')\n",
    "except Exception as e:\n",
    "    print(f\"error opening word file: {e}\")"
   ]
  },
  {
   "cell_type": "code",
   "execution_count": null,
   "id": "eaf504f8",
   "metadata": {},
   "outputs": [],
   "source": []
  },
  {
   "cell_type": "code",
   "execution_count": null,
   "id": "6dcec277",
   "metadata": {},
   "outputs": [],
   "source": []
  }
 ],
 "metadata": {
  "kernelspec": {
   "display_name": "RAG (3.12.4)",
   "language": "python",
   "name": "python3"
  },
  "language_info": {
   "codemirror_mode": {
    "name": "ipython",
    "version": 3
   },
   "file_extension": ".py",
   "mimetype": "text/x-python",
   "name": "python",
   "nbconvert_exporter": "python",
   "pygments_lexer": "ipython3",
   "version": "3.12.4"
  }
 },
 "nbformat": 4,
 "nbformat_minor": 5
}
