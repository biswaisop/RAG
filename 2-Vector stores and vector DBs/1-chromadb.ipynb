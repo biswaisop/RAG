{
 "cells": [
  {
   "cell_type": "markdown",
   "id": "79044576",
   "metadata": {},
   "source": [
    "### Building a RAG System with LangChain and ChromaDB\n",
    "#### Introduction\n",
    " Retrieval-Augmented Generation (RAG) is a powerful technique that combines the capabilities of large\n",
    " language models with external knowledge retrieval. \n",
    " This notebook will walk you through building a\n",
    " complete RAG system using:\n",
    "- LangChain: A framework for developing applications powered by language models\n",
    "- ChromaDB: An open-source vector database for storing and retrieving embeddings\n",
    "- OpenAI: For embeddings and language model (you can substitute with other providers)"
   ]
  },
  {
   "cell_type": "code",
   "execution_count": 2,
   "id": "7f3acf65",
   "metadata": {},
   "outputs": [
    {
     "data": {
      "text/plain": [
       "True"
      ]
     },
     "execution_count": 2,
     "metadata": {},
     "output_type": "execute_result"
    }
   ],
   "source": [
    "import os \n",
    "from dotenv import load_dotenv\n",
    "load_dotenv()"
   ]
  },
  {
   "cell_type": "code",
   "execution_count": 3,
   "id": "f53c4e11",
   "metadata": {},
   "outputs": [],
   "source": [
    "gemini = os.getenv(\"GEMINI_API_KEY\")"
   ]
  },
  {
   "cell_type": "code",
   "execution_count": 4,
   "id": "048ccc71",
   "metadata": {},
   "outputs": [],
   "source": [
    "# Recursive character text splitter\n",
    "from langchain.text_splitter import RecursiveCharacterTextSplitter\n",
    "from langchain_community.document_loaders import TextLoader\n",
    "from langchain_google_genai import ChatGoogleGenerativeAI\n",
    "from langchain_huggingface import HuggingFaceEmbeddings\n",
    "from langchain.schema import Document\n",
    "\n",
    "# Vector stores\n",
    "from langchain_community.vectorstores import Chroma\n",
    "\n",
    "\n",
    "# Utility imports\n",
    "import numpy as np\n",
    "from typing import List"
   ]
  },
  {
   "cell_type": "markdown",
   "id": "d35973d6",
   "metadata": {},
   "source": [
    "### RAG (Retrieval-Augmented Generation) Architecture:\n",
    "1. Document Loading: Load documents from various sources\n",
    "2. Document Splitting: Break documents into smaller chunks\n",
    "3. Embedding Generation: Convert chunks into vector representations\n",
    "4. Vector Storage: Store embeddings in ChromaDB\n",
    "5. Query Processing: Convert user query to embedding\n",
    "6. Similarity Search: Find relevant chunks from vector store\n",
    "7. Context Augmentation: Combine retrieved chunks with query\n",
    "8. Response Generation: LLM generates answer using context\n",
    "### Benefits of RAG:\n",
    "- Reduces hallucinations\n",
    "- Provides up-to-date information\n",
    "- Allows citing sources\n",
    "- Works with domain-specific knowledge"
   ]
  },
  {
   "cell_type": "markdown",
   "id": "d911acc3",
   "metadata": {},
   "source": [
    "#### 1. Sample Data"
   ]
  },
  {
   "cell_type": "code",
   "execution_count": 5,
   "id": "c1b6d64d",
   "metadata": {},
   "outputs": [],
   "source": [
    "# create sample data\n",
    "\n",
    "sample_docs = [\n",
    "    \"\"\"Machine Learning Fundamentals\n",
    "\n",
    "    Machine learning is a subset of artificial intelligence that enables systems to learn\n",
    "    and improve from experience without being explicitly programmed. There are three main\n",
    "    types of machine learning: supervised learning, unsupervised learning, and reinforcement\n",
    "    learning. Supervised learning uses labeled data to train models, while unsupervised\n",
    "    learning finds patterns in unlabeled data. Reinforcement learning learns through\n",
    "    interaction with an environment using rewards and penalties.\n",
    "    \"\"\",\n",
    "    \n",
    "    \"\"\"\n",
    "    Deep Learning and Neural Networks\n",
    "\n",
    "    Deep learning is a subset of machine learning based on artificial neural networks.\n",
    "    These networks are inspired by the human brain and consist of layers of interconnected\n",
    "    nodes. Deep learning has revolutionized fields like computer vision, natural language\n",
    "    processing, and speech recognition. Convolutional Neural Networks (CNNs) are particularly\n",
    "    effective for image processing, while Recurrent Neural Networks (RNNs) and Transformers\n",
    "    excel at sequential data processing.\n",
    "    \"\"\",\n",
    "\n",
    "    \"\"\"Natural Language Processing (NLP)\n",
    "\n",
    "    NLP is a field of AI that focuses on the interaction between computers and human language.\n",
    "    Key tasks in NLP include text classification, named entity recognition, sentiment analysis,\n",
    "    machine translation, and question answering. Modern NLP heavily relies on transformer\n",
    "    architectures like BERT, GPT, and T5. These models use attention mechanisms to understand\n",
    "    context and relationships between words in text.\n",
    "    \"\"\"\n",
    "\n",
    "]"
   ]
  },
  {
   "cell_type": "code",
   "execution_count": 6,
   "id": "0efc7880",
   "metadata": {},
   "outputs": [
    {
     "data": {
      "text/plain": [
       "['Machine Learning Fundamentals\\n\\n    Machine learning is a subset of artificial intelligence that enables systems to learn\\n    and improve from experience without being explicitly programmed. There are three main\\n    types of machine learning: supervised learning, unsupervised learning, and reinforcement\\n    learning. Supervised learning uses labeled data to train models, while unsupervised\\n    learning finds patterns in unlabeled data. Reinforcement learning learns through\\n    interaction with an environment using rewards and penalties.\\n    ',\n",
       " '\\n    Deep Learning and Neural Networks\\n\\n    Deep learning is a subset of machine learning based on artificial neural networks.\\n    These networks are inspired by the human brain and consist of layers of interconnected\\n    nodes. Deep learning has revolutionized fields like computer vision, natural language\\n    processing, and speech recognition. Convolutional Neural Networks (CNNs) are particularly\\n    effective for image processing, while Recurrent Neural Networks (RNNs) and Transformers\\n    excel at sequential data processing.\\n    ',\n",
       " 'Natural Language Processing (NLP)\\n\\n    NLP is a field of AI that focuses on the interaction between computers and human language.\\n    Key tasks in NLP include text classification, named entity recognition, sentiment analysis,\\n    machine translation, and question answering. Modern NLP heavily relies on transformer\\n    architectures like BERT, GPT, and T5. These models use attention mechanisms to understand\\n    context and relationships between words in text.\\n    ']"
      ]
     },
     "execution_count": 6,
     "metadata": {},
     "output_type": "execute_result"
    }
   ],
   "source": [
    "sample_docs"
   ]
  },
  {
   "cell_type": "code",
   "execution_count": 7,
   "id": "613c4572",
   "metadata": {},
   "outputs": [],
   "source": [
    "import tempfile\n",
    "\n",
    "temp_dir = tempfile.mkdtemp()\n",
    "\n",
    "for i, doc in enumerate(sample_docs):\n",
    "    with open(f\"{temp_dir}/doc_{i}.txt\", \"w\") as f:\n",
    "        f.write(doc)"
   ]
  },
  {
   "cell_type": "code",
   "execution_count": 8,
   "id": "a6d4007d",
   "metadata": {},
   "outputs": [
    {
     "data": {
      "text/plain": [
       "'C:\\\\Users\\\\monda\\\\AppData\\\\Local\\\\Temp\\\\tmpbn5gy6hx'"
      ]
     },
     "execution_count": 8,
     "metadata": {},
     "output_type": "execute_result"
    }
   ],
   "source": [
    "temp_dir"
   ]
  },
  {
   "cell_type": "markdown",
   "id": "928a2e40",
   "metadata": {},
   "source": [
    "#### 2. Document Loading"
   ]
  },
  {
   "cell_type": "code",
   "execution_count": 9,
   "id": "e3ca88ab",
   "metadata": {},
   "outputs": [
    {
     "name": "stdout",
     "output_type": "stream",
     "text": [
      "Loaded 3 documents\n",
      "\n",
      "First document preview: \n",
      "\n",
      "Machine Learning Fundamentals\n",
      "\n",
      "    Machine learning is a subset of artificial intelligence that enables systems to learn\n",
      "    and improve from experience without being explicitly programmed. There are ...\n"
     ]
    }
   ],
   "source": [
    "from langchain_community.document_loaders import DirectoryLoader\n",
    "\n",
    "# Load documents from directory\n",
    "\n",
    "loader = DirectoryLoader(\n",
    "    \"data\",\n",
    "    glob=\"*.txt\",\n",
    "    loader_cls=TextLoader,\n",
    "    loader_kwargs={'encoding':'utf-8'}\n",
    ")\n",
    "\n",
    "documents = loader.load()\n",
    "\n",
    "print(f\"Loaded {len(documents)} documents\")\n",
    "print(f\"\\nFirst document preview: \\n\")\n",
    "print(documents[0].page_content[:200]+\"...\")"
   ]
  },
  {
   "cell_type": "markdown",
   "id": "f3f92ec3",
   "metadata": {},
   "source": [
    "#### 3. Document Splitting"
   ]
  },
  {
   "cell_type": "code",
   "execution_count": 10,
   "id": "cb2d0a90",
   "metadata": {},
   "outputs": [],
   "source": [
    "text_splitter = RecursiveCharacterTextSplitter(\n",
    "    chunk_size = 500, # Maximum size of each chunk\n",
    "    chunk_overlap = 50, # Overlap between chunks to maintain context\n",
    "    length_function = len, \n",
    "    separators=[\"\\n\\n\", \"\\n\", \". \", \" \", \"\"] # Hierarchy of separators\n",
    ")"
   ]
  },
  {
   "cell_type": "code",
   "execution_count": 11,
   "id": "5f4b0494",
   "metadata": {},
   "outputs": [],
   "source": [
    "chunks = text_splitter.split_documents(documents)"
   ]
  },
  {
   "cell_type": "markdown",
   "id": "0e6994f7",
   "metadata": {},
   "source": [
    "#### 4. Embedding Models"
   ]
  },
  {
   "cell_type": "code",
   "execution_count": 12,
   "id": "d3b09d43",
   "metadata": {},
   "outputs": [
    {
     "name": "stderr",
     "output_type": "stream",
     "text": [
      "d:\\Study\\RAG\\.venv\\Lib\\site-packages\\tqdm\\auto.py:21: TqdmWarning: IProgress not found. Please update jupyter and ipywidgets. See https://ipywidgets.readthedocs.io/en/stable/user_install.html\n",
      "  from .autonotebook import tqdm as notebook_tqdm\n"
     ]
    }
   ],
   "source": [
    "# Hugging face embedding models\n",
    "\n",
    "embeddings = HuggingFaceEmbeddings(\n",
    "    model_name = \"sentence-transformers/all-MiniLM-L6-v2\"\n",
    ")"
   ]
  },
  {
   "cell_type": "code",
   "execution_count": 13,
   "id": "e56cc603",
   "metadata": {},
   "outputs": [],
   "source": [
    "sample_text = \"Machine learning is amazing\"\n",
    "embedding1 = embeddings.embed_query(sample_text)"
   ]
  },
  {
   "cell_type": "markdown",
   "id": "8945d5a6",
   "metadata": {},
   "source": [
    "#### 5. Initialize the ChromaDB Vector store and stores the chunks in Vector representation"
   ]
  },
  {
   "cell_type": "code",
   "execution_count": 17,
   "id": "d2e57744",
   "metadata": {},
   "outputs": [
    {
     "name": "stdout",
     "output_type": "stream",
     "text": [
      "Vector store created with 21 vectors\n",
      "Persisted to: ./chroma_db\n"
     ]
    }
   ],
   "source": [
    "# create a Chromadb vector store\n",
    "persist_directory = \"./chroma_db\"\n",
    "\n",
    "# Initialize chromadb with huggingFace embeddings\n",
    "vector_store = Chroma.from_documents(\n",
    "    documents=chunks,\n",
    "    embedding=HuggingFaceEmbeddings(),\n",
    "    persist_directory=persist_directory,\n",
    "    collection_name=\"rag_collection\"\n",
    ")\n",
    "\n",
    "print(f\"Vector store created with {vector_store._collection.count()} vectors\")\n",
    "print(f\"Persisted to: {persist_directory}\")"
   ]
  },
  {
   "cell_type": "markdown",
   "id": "ed7cd4fd",
   "metadata": {},
   "source": [
    "#### 6. Test similarity test"
   ]
  },
  {
   "cell_type": "code",
   "execution_count": 31,
   "id": "2a090dda",
   "metadata": {},
   "outputs": [],
   "source": [
    "query = \"What are the types of machine learning and what is nlp?\"\n",
    "\n",
    "similar_docs = vector_store.similarity_search_with_score(query, k=5)"
   ]
  },
  {
   "cell_type": "code",
   "execution_count": 32,
   "id": "f4f4ec1f",
   "metadata": {},
   "outputs": [
    {
     "data": {
      "text/plain": [
       "[(Document(metadata={'source': 'data\\\\doc_0.txt'}, page_content='Machine learning is a subset of artificial intelligence that enables systems to learn\\n    and improve from experience without being explicitly programmed. There are three main\\n    types of machine learning: supervised learning, unsupervised learning, and reinforcement\\n    learning. Supervised learning uses labeled data to train models, while unsupervised\\n    learning finds patterns in unlabeled data. Reinforcement learning learns through'),\n",
       "  0.5402185916900635),\n",
       " (Document(metadata={'source': 'data\\\\doc_0.txt'}, page_content='Machine learning is a subset of artificial intelligence that enables systems to learn\\n    and improve from experience without being explicitly programmed. There are three main\\n    types of machine learning: supervised learning, unsupervised learning, and reinforcement\\n    learning. Supervised learning uses labeled data to train models, while unsupervised\\n    learning finds patterns in unlabeled data. Reinforcement learning learns through'),\n",
       "  0.5402185916900635),\n",
       " (Document(metadata={'source': 'data\\\\doc_0.txt'}, page_content='Machine learning is a subset of artificial intelligence that enables systems to learn\\n    and improve from experience without being explicitly programmed. There are three main\\n    types of machine learning: supervised learning, unsupervised learning, and reinforcement\\n    learning. Supervised learning uses labeled data to train models, while unsupervised\\n    learning finds patterns in unlabeled data. Reinforcement learning learns through'),\n",
       "  0.5402185916900635),\n",
       " (Document(metadata={'source': 'data\\\\doc_2.txt'}, page_content='Natural Language Processing (NLP)\\n\\n    NLP is a field of AI that focuses on the interaction between computers and human language.\\n    Key tasks in NLP include text classification, named entity recognition, sentiment analysis,\\n    machine translation, and question answering. Modern NLP heavily relies on transformer\\n    architectures like BERT, GPT, and T5. These models use attention mechanisms to understand\\n    context and relationships between words in text.'),\n",
       "  0.8147017955780029),\n",
       " (Document(metadata={'source': 'data\\\\doc_2.txt'}, page_content='Natural Language Processing (NLP)\\n\\n    NLP is a field of AI that focuses on the interaction between computers and human language.\\n    Key tasks in NLP include text classification, named entity recognition, sentiment analysis,\\n    machine translation, and question answering. Modern NLP heavily relies on transformer\\n    architectures like BERT, GPT, and T5. These models use attention mechanisms to understand\\n    context and relationships between words in text.'),\n",
       "  0.8147017955780029)]"
      ]
     },
     "execution_count": 32,
     "metadata": {},
     "output_type": "execute_result"
    }
   ],
   "source": [
    "similar_docs"
   ]
  },
  {
   "cell_type": "code",
   "execution_count": 24,
   "id": "66a6839a",
   "metadata": {},
   "outputs": [
    {
     "data": {
      "text/plain": [
       "[Document(metadata={'source': 'data\\\\doc_0.txt'}, page_content='Machine Learning Fundamentals'),\n",
       " Document(metadata={'source': 'data\\\\doc_0.txt'}, page_content='Machine learning is a subset of artificial intelligence that enables systems to learn\\n    and improve from experience without being explicitly programmed. There are three main\\n    types of machine learning: supervised learning, unsupervised learning, and reinforcement\\n    learning. Supervised learning uses labeled data to train models, while unsupervised\\n    learning finds patterns in unlabeled data. Reinforcement learning learns through'),\n",
       " Document(metadata={'source': 'data\\\\doc_0.txt'}, page_content='interaction with an environment using rewards and penalties.'),\n",
       " Document(metadata={'source': 'data\\\\doc_1.txt'}, page_content='Deep Learning and Neural Networks'),\n",
       " Document(metadata={'source': 'data\\\\doc_1.txt'}, page_content='Deep learning is a subset of machine learning based on artificial neural networks.\\n    These networks are inspired by the human brain and consist of layers of interconnected\\n    nodes. Deep learning has revolutionized fields like computer vision, natural language\\n    processing, and speech recognition. Convolutional Neural Networks (CNNs) are particularly\\n    effective for image processing, while Recurrent Neural Networks (RNNs) and Transformers\\n    excel at sequential data processing.'),\n",
       " Document(metadata={'source': 'data\\\\doc_1.txt'}, page_content='excel at sequential data processing.'),\n",
       " Document(metadata={'source': 'data\\\\doc_2.txt'}, page_content='Natural Language Processing (NLP)\\n\\n    NLP is a field of AI that focuses on the interaction between computers and human language.\\n    Key tasks in NLP include text classification, named entity recognition, sentiment analysis,\\n    machine translation, and question answering. Modern NLP heavily relies on transformer\\n    architectures like BERT, GPT, and T5. These models use attention mechanisms to understand\\n    context and relationships between words in text.')]"
      ]
     },
     "execution_count": 24,
     "metadata": {},
     "output_type": "execute_result"
    }
   ],
   "source": [
    "chunks"
   ]
  },
  {
   "cell_type": "markdown",
   "id": "bb01ce61",
   "metadata": {},
   "source": [
    "#### 2. Understanding Similarity Scores\n",
    "The similarity score represents how closely related a document chunk is to your query. The scoring depends on the distance\n",
    "metric used: \n",
    "\n",
    "ChromaDB default: Uses L2 distance (Euclidean distance)\n",
    "\n",
    "- Lower scores = MORE similar (closer in vector space)\n",
    "- Score of 0 = identical vectors\n",
    "- Typical range: 0 to 2 (but can be higher)\n",
    "\n",
    "Cosine similarity (if configured):\n",
    "- Higher scores = MORE similar\n",
    "- Range: -1 to 1 (1 being identical)\n"
   ]
  },
  {
   "cell_type": "code",
   "execution_count": null,
   "id": "ae8fff53",
   "metadata": {},
   "outputs": [],
   "source": []
  }
 ],
 "metadata": {
  "kernelspec": {
   "display_name": "RAG (3.12.4)",
   "language": "python",
   "name": "python3"
  },
  "language_info": {
   "codemirror_mode": {
    "name": "ipython",
    "version": 3
   },
   "file_extension": ".py",
   "mimetype": "text/x-python",
   "name": "python",
   "nbconvert_exporter": "python",
   "pygments_lexer": "ipython3",
   "version": "3.12.4"
  }
 },
 "nbformat": 4,
 "nbformat_minor": 5
}
